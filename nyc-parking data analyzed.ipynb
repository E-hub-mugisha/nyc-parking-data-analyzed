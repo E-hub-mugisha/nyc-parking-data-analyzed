{
 "cells": [
  {
   "cell_type": "markdown",
   "id": "7da2c93c",
   "metadata": {},
   "source": [
    "Using the same nyc-ticket-violation dataset, let’s assume that tickets can be dismissed if the license plate, state, and/or street name are all there but without requiring the make of car. Remove rows that are missing one or more of these. How many rows remain? Assuming $100/ticket, how much money would the city lose as a result of this?"
   ]
  },
  {
   "cell_type": "code",
   "execution_count": 1,
   "id": "1f42794e",
   "metadata": {},
   "outputs": [],
   "source": [
    "import pandas as pd\n",
    "import numpy as np"
   ]
  },
  {
   "cell_type": "code",
   "execution_count": 2,
   "id": "6adb2b1f",
   "metadata": {},
   "outputs": [],
   "source": [
    "# importing the nyc_ticket_violation_dataset\n",
    "\n",
    "nyc_park_violation_data = pd.read_csv('nyc-parking-violations-2020.csv', \n",
    "                                      usecols=[\"Plate ID\", \"Registration State\", \"Street Name\", \"Vehicle Make\"])"
   ]
  },
  {
   "cell_type": "code",
   "execution_count": 3,
   "id": "e7fafe54",
   "metadata": {},
   "outputs": [
    {
     "name": "stdout",
     "output_type": "stream",
     "text": [
      "<class 'pandas.core.frame.DataFrame'>\n",
      "RangeIndex: 12495734 entries, 0 to 12495733\n",
      "Data columns (total 4 columns):\n",
      " #   Column              Dtype \n",
      "---  ------              ----- \n",
      " 0   Plate ID            object\n",
      " 1   Registration State  object\n",
      " 2   Vehicle Make        object\n",
      " 3   Street Name         object\n",
      "dtypes: object(4)\n",
      "memory usage: 381.3+ MB\n"
     ]
    }
   ],
   "source": [
    "# Getting information on selected portions of data\n",
    "\n",
    "nyc_park_violation_data.info()"
   ]
  },
  {
   "cell_type": "code",
   "execution_count": 4,
   "id": "6930bc19",
   "metadata": {},
   "outputs": [
    {
     "data": {
      "text/html": [
       "<div>\n",
       "<style scoped>\n",
       "    .dataframe tbody tr th:only-of-type {\n",
       "        vertical-align: middle;\n",
       "    }\n",
       "\n",
       "    .dataframe tbody tr th {\n",
       "        vertical-align: top;\n",
       "    }\n",
       "\n",
       "    .dataframe thead th {\n",
       "        text-align: right;\n",
       "    }\n",
       "</style>\n",
       "<table border=\"1\" class=\"dataframe\">\n",
       "  <thead>\n",
       "    <tr style=\"text-align: right;\">\n",
       "      <th></th>\n",
       "      <th>Plate ID</th>\n",
       "      <th>Registration State</th>\n",
       "      <th>Vehicle Make</th>\n",
       "      <th>Street Name</th>\n",
       "    </tr>\n",
       "  </thead>\n",
       "  <tbody>\n",
       "    <tr>\n",
       "      <th>0</th>\n",
       "      <td>J58JKX</td>\n",
       "      <td>NJ</td>\n",
       "      <td>HONDA</td>\n",
       "      <td>43 ST</td>\n",
       "    </tr>\n",
       "    <tr>\n",
       "      <th>1</th>\n",
       "      <td>KRE6058</td>\n",
       "      <td>PA</td>\n",
       "      <td>ME/BE</td>\n",
       "      <td>UNION ST</td>\n",
       "    </tr>\n",
       "    <tr>\n",
       "      <th>2</th>\n",
       "      <td>444326R</td>\n",
       "      <td>NJ</td>\n",
       "      <td>LEXUS</td>\n",
       "      <td>CLERMONT AVENUE</td>\n",
       "    </tr>\n",
       "    <tr>\n",
       "      <th>3</th>\n",
       "      <td>F728330</td>\n",
       "      <td>OH</td>\n",
       "      <td>CHEVR</td>\n",
       "      <td>DIVISION AVE</td>\n",
       "    </tr>\n",
       "    <tr>\n",
       "      <th>4</th>\n",
       "      <td>FMY9090</td>\n",
       "      <td>NY</td>\n",
       "      <td>JEEP</td>\n",
       "      <td>GRAND ST</td>\n",
       "    </tr>\n",
       "    <tr>\n",
       "      <th>...</th>\n",
       "      <td>...</td>\n",
       "      <td>...</td>\n",
       "      <td>...</td>\n",
       "      <td>...</td>\n",
       "    </tr>\n",
       "    <tr>\n",
       "      <th>12495729</th>\n",
       "      <td>62161MM</td>\n",
       "      <td>NY</td>\n",
       "      <td>FORD</td>\n",
       "      <td>3RD AVE</td>\n",
       "    </tr>\n",
       "    <tr>\n",
       "      <th>12495730</th>\n",
       "      <td>GYE7330</td>\n",
       "      <td>NY</td>\n",
       "      <td>HONDA</td>\n",
       "      <td>PELHAM PARK DR</td>\n",
       "    </tr>\n",
       "    <tr>\n",
       "      <th>12495731</th>\n",
       "      <td>HNY4802</td>\n",
       "      <td>NY</td>\n",
       "      <td>FORD</td>\n",
       "      <td>LYDIG AVE</td>\n",
       "    </tr>\n",
       "    <tr>\n",
       "      <th>12495732</th>\n",
       "      <td>T687081C</td>\n",
       "      <td>NY</td>\n",
       "      <td>TOYOT</td>\n",
       "      <td>E 68 STREET</td>\n",
       "    </tr>\n",
       "    <tr>\n",
       "      <th>12495733</th>\n",
       "      <td>3497ZN</td>\n",
       "      <td>WA</td>\n",
       "      <td>UTILI</td>\n",
       "      <td>W/S/O 182 STREET</td>\n",
       "    </tr>\n",
       "  </tbody>\n",
       "</table>\n",
       "<p>12495734 rows × 4 columns</p>\n",
       "</div>"
      ],
      "text/plain": [
       "          Plate ID Registration State Vehicle Make       Street Name\n",
       "0           J58JKX                 NJ        HONDA             43 ST\n",
       "1          KRE6058                 PA        ME/BE          UNION ST\n",
       "2          444326R                 NJ        LEXUS   CLERMONT AVENUE\n",
       "3          F728330                 OH        CHEVR      DIVISION AVE\n",
       "4          FMY9090                 NY         JEEP          GRAND ST\n",
       "...            ...                ...          ...               ...\n",
       "12495729   62161MM                 NY         FORD           3RD AVE\n",
       "12495730   GYE7330                 NY        HONDA    PELHAM PARK DR\n",
       "12495731   HNY4802                 NY         FORD         LYDIG AVE\n",
       "12495732  T687081C                 NY        TOYOT       E 68 STREET\n",
       "12495733    3497ZN                 WA        UTILI  W/S/O 182 STREET\n",
       "\n",
       "[12495734 rows x 4 columns]"
      ]
     },
     "execution_count": 4,
     "metadata": {},
     "output_type": "execute_result"
    }
   ],
   "source": [
    "nyc_park_violation_data"
   ]
  },
  {
   "cell_type": "markdown",
   "id": "d1b67d59",
   "metadata": {},
   "source": [
    "### QUESTION 1 - Removing missing data from dataframe"
   ]
  },
  {
   "cell_type": "code",
   "execution_count": 7,
   "id": "ad6ff02f",
   "metadata": {},
   "outputs": [
    {
     "data": {
      "text/plain": [
       "Plate ID                202\n",
       "Registration State        0\n",
       "Vehicle Make          62420\n",
       "Street Name            1417\n",
       "dtype: int64"
      ]
     },
     "execution_count": 7,
     "metadata": {},
     "output_type": "execute_result"
    }
   ],
   "source": [
    "# Getting the number of rows with missing data\n",
    "\n",
    "nyc_park_violation_data.isnull().sum()\n"
   ]
  },
  {
   "cell_type": "code",
   "execution_count": 6,
   "id": "7b9f9bc1",
   "metadata": {},
   "outputs": [
    {
     "data": {
      "text/plain": [
       "Plate ID              0\n",
       "Registration State    0\n",
       "Vehicle Make          0\n",
       "Street Name           0\n",
       "dtype: int64"
      ]
     },
     "execution_count": 6,
     "metadata": {},
     "output_type": "execute_result"
    }
   ],
   "source": [
    "# Getting the rows with data \n",
    "\n",
    "rows_with_data = nyc_park_violation_data.dropna()\n",
    "\n",
    "rows_with_data.isnull().sum()"
   ]
  },
  {
   "cell_type": "markdown",
   "id": "5c827321",
   "metadata": {},
   "source": [
    "### QUESTION 2 - Rows left after removal of missing data"
   ]
  },
  {
   "cell_type": "code",
   "execution_count": 8,
   "id": "59312bab",
   "metadata": {},
   "outputs": [
    {
     "name": "stdout",
     "output_type": "stream",
     "text": [
      "Number of rows left after cleaning data is  12431949\n"
     ]
    }
   ],
   "source": [
    "# Calculating number of rows left after cleaning data\n",
    "\n",
    "rows_left = len(nyc_park_violation_data.dropna())\n",
    "print(\"Number of rows left after cleaning data is \" ,rows_left)"
   ]
  },
  {
   "cell_type": "markdown",
   "id": "6e92fa9f",
   "metadata": {},
   "source": [
    "### QUESTION 3 - Calculating money lost by State"
   ]
  },
  {
   "cell_type": "code",
   "execution_count": 8,
   "id": "38eadacf",
   "metadata": {},
   "outputs": [
    {
     "name": "stdout",
     "output_type": "stream",
     "text": [
      "Total number of rows removed is  63785\n"
     ]
    }
   ],
   "source": [
    "# calculating removed rows\n",
    "\n",
    "removed_rows = nyc_park_violation_data.shape[0] - rows_with_data.shape[0]\n",
    "print(\"Total number of rows removed is \",removed_rows)"
   ]
  },
  {
   "cell_type": "code",
   "execution_count": 9,
   "id": "e8ad7ce4",
   "metadata": {},
   "outputs": [
    {
     "name": "stdout",
     "output_type": "stream",
     "text": [
      "Money lost by state due to missing data is $6,378,500.00\n"
     ]
    }
   ],
   "source": [
    "# calculating the amount lost by the city due to missing data\n",
    "\n",
    "money_lost = removed_rows * 100\n",
    "\n",
    "print(f\"Money lost by state due to missing data is ${money_lost:,.2f}\")"
   ]
  }
 ],
 "metadata": {
  "kernelspec": {
   "display_name": "Python 3 (ipykernel)",
   "language": "python",
   "name": "python3"
  },
  "language_info": {
   "codemirror_mode": {
    "name": "ipython",
    "version": 3
   },
   "file_extension": ".py",
   "mimetype": "text/x-python",
   "name": "python",
   "nbconvert_exporter": "python",
   "pygments_lexer": "ipython3",
   "version": "3.9.13"
  }
 },
 "nbformat": 4,
 "nbformat_minor": 5
}
